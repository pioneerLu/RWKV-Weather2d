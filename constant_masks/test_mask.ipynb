{
 "cells": [
  {
   "cell_type": "code",
   "execution_count": 1,
   "metadata": {},
   "outputs": [],
   "source": [
    "import numpy as np\n",
    "import xarray as xr"
   ]
  },
  {
   "cell_type": "code",
   "execution_count": 3,
   "metadata": {},
   "outputs": [
    {
     "data": {
      "text/plain": [
       "(120, 120)"
      ]
     },
     "execution_count": 3,
     "metadata": {},
     "output_type": "execute_result"
    }
   ],
   "source": [
    "mask = np.load('/home/rwkv/RWKV-TS/WeatherBench/constant_masks/land_mask.npy')\n",
    "mask[440:560,180:300].shape"
   ]
  },
  {
   "cell_type": "code",
   "execution_count": 2,
   "metadata": {},
   "outputs": [],
   "source": [
    "temp1 = xr.open_mfdataset('/home/rwkv/RWKV-TS/WeatherBench/era5_data/merged_data/ERA5_merged_surface.nc',combine='by_coords')"
   ]
  },
  {
   "cell_type": "code",
   "execution_count": 4,
   "metadata": {},
   "outputs": [
    {
     "data": {
      "text/plain": [
       "Data variables:\n",
       "    u10      (valid_time, latitude, longitude) float32 9GB dask.array<chunksize=(8766, 20, 18), meta=np.ndarray>\n",
       "    v10      (valid_time, latitude, longitude) float32 9GB dask.array<chunksize=(8766, 20, 18), meta=np.ndarray>\n",
       "    t2m      (valid_time, latitude, longitude) float32 9GB dask.array<chunksize=(8766, 20, 18), meta=np.ndarray>\n",
       "    msl      (valid_time, latitude, longitude) float32 9GB dask.array<chunksize=(8766, 20, 18), meta=np.ndarray>\n",
       "    sst      (valid_time, latitude, longitude) float32 9GB dask.array<chunksize=(8766, 20, 18), meta=np.ndarray>\n",
       "    sp       (valid_time, latitude, longitude) float32 9GB dask.array<chunksize=(8766, 20, 18), meta=np.ndarray>"
      ]
     },
     "execution_count": 4,
     "metadata": {},
     "output_type": "execute_result"
    }
   ],
   "source": [
    "temp1.data_vars"
   ]
  },
  {
   "cell_type": "code",
   "execution_count": 5,
   "metadata": {},
   "outputs": [],
   "source": [
    "temp = []\n",
    "for data_name in temp1.data_vars:\n",
    "    if data_name != 'sst':\n",
    "        temp.append(temp1[data_name].values)\n",
    "\n",
    "data = np.stack(temp, axis=0) # (C, T, H, W)"
   ]
  },
  {
   "cell_type": "code",
   "execution_count": 6,
   "metadata": {},
   "outputs": [
    {
     "data": {
      "text/plain": [
       "(5, 744, 12, 177, 157)"
      ]
     },
     "execution_count": 6,
     "metadata": {},
     "output_type": "execute_result"
    }
   ],
   "source": [
    "data.shape"
   ]
  },
  {
   "cell_type": "code",
   "execution_count": 5,
   "metadata": {},
   "outputs": [
    {
     "name": "stdout",
     "output_type": "stream",
     "text": [
      "[45.   44.75 44.5  44.25 44.   43.75 43.5  43.25 43.   42.75 42.5  42.25\n",
      " 42.   41.75 41.5  41.25 41.   40.75 40.5  40.25 40.   39.75 39.5  39.25\n",
      " 39.   38.75 38.5  38.25 38.   37.75 37.5  37.25 37.   36.75 36.5  36.25\n",
      " 36.   35.75 35.5  35.25 35.   34.75 34.5  34.25 34.   33.75 33.5  33.25\n",
      " 33.   32.75 32.5  32.25 32.   31.75 31.5  31.25 31.   30.75 30.5  30.25\n",
      " 30.   29.75 29.5  29.25 29.   28.75 28.5  28.25 28.   27.75 27.5  27.25\n",
      " 27.   26.75 26.5  26.25 26.   25.75 25.5  25.25 25.   24.75 24.5  24.25\n",
      " 24.   23.75 23.5  23.25 23.   22.75 22.5  22.25 22.   21.75 21.5  21.25\n",
      " 21.   20.75 20.5  20.25 20.   19.75 19.5  19.25 19.   18.75 18.5  18.25\n",
      " 18.   17.75 17.5  17.25 17.   16.75 16.5  16.25 16.   15.75 15.5  15.25\n",
      " 15.   14.75 14.5  14.25 14.   13.75 13.5  13.25]\n"
     ]
    },
    {
     "data": {
      "text/plain": [
       "(128,)"
      ]
     },
     "execution_count": 5,
     "metadata": {},
     "output_type": "execute_result"
    }
   ],
   "source": [
    "print(temp['latitude'].to_numpy()[180:308])\n",
    "temp['longitude'].to_numpy()[440:568].shape"
   ]
  }
 ],
 "metadata": {
  "kernelspec": {
   "display_name": "pytorch-env",
   "language": "python",
   "name": "python3"
  },
  "language_info": {
   "codemirror_mode": {
    "name": "ipython",
    "version": 3
   },
   "file_extension": ".py",
   "mimetype": "text/x-python",
   "name": "python",
   "nbconvert_exporter": "python",
   "pygments_lexer": "ipython3",
   "version": "3.10.14"
  }
 },
 "nbformat": 4,
 "nbformat_minor": 2
}
