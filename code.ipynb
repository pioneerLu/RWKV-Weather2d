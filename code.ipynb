{
 "cells": [
  {
   "cell_type": "code",
   "execution_count": 1,
   "metadata": {},
   "outputs": [],
   "source": [
    "import torch\n",
    "import torch.nn as nn\n",
    "import torch.nn.functional as F\n"
   ]
  },
  {
   "cell_type": "markdown",
   "metadata": {},
   "source": [
    "# Convolve embedding and recovery"
   ]
  },
  {
   "cell_type": "code",
   "execution_count": null,
   "metadata": {},
   "outputs": [],
   "source": [
    "class PatchEmbedding2D(nn.Module):\n",
    "    def __init__(self, input_dim, embed_dim, patch_size):\n",
    "        super(PatchEmbedding2D, self).__init__()\n",
    "        self.projection = nn.Conv2d(\n",
    "            in_channels=input_dim,  \n",
    "            out_channels=embed_dim,\n",
    "            kernel_size=patch_size, #no overlapping\n",
    "            stride=patch_size\n",
    "        )\n",
    "        self.flatten = nn.Flatten(start_dim=2)  # Flatten spatial dimensions (H, W)\n",
    "\n",
    "    def forward(self, x): #(B, C, H, W)\n",
    "        x = self.projection(x)  # (B, embed_dim, H', W')\n",
    "        x = self.flatten(x)  # (B, embed_dim, H'*W')\n",
    "        x = x.transpose(1, 2)  # (B, H'*W', embed_dim)\n",
    "        return x"
   ]
  },
  {
   "cell_type": "code",
   "execution_count": null,
   "metadata": {},
   "outputs": [],
   "source": [
    "\n",
    "class PatchRecovery2D(nn.Module):\n",
    "    def __init__(self, output_dim, embed_dim, patch_size):\n",
    "        super(PatchRecovery2D, self).__init__()\n",
    "        self.reconstruction = nn.ConvTranspose2d(\n",
    "            in_channels=embed_dim,\n",
    "            out_channels=output_dim,\n",
    "            kernel_size=patch_size,\n",
    "            stride=patch_size\n",
    "        )\n",
    "\n",
    "    def forward(self, x, spatial_shape):\n",
    "        # Reshape to (B, embed_dim, H', W') for ConvTranspose2d\n",
    "        B, N, C = x.shape\n",
    "        H, W = spatial_shape\n",
    "        x = x.transpose(1, 2).view(B, C, H, W)\n",
    "        return self.reconstruction(x)"
   ]
  },
  {
   "cell_type": "markdown",
   "metadata": {},
   "source": [
    "# RWKV-Block"
   ]
  },
  {
   "cell_type": "code",
   "execution_count": null,
   "metadata": {},
   "outputs": [],
   "source": [
    "class Block(nn.Module):\n",
    "    pass\n",
    "\n",
    "\n",
    "class Decoder(nn.Module):\n",
    "    pass\n",
    "\n",
    "class RWKV_weather(nn.Module):\n",
    "    pass"
   ]
  },
  {
   "cell_type": "code",
   "execution_count": null,
   "metadata": {},
   "outputs": [],
   "source": [
    "class DownSample(nn.Module):\n",
    "    pass\n",
    "\n",
    "\n",
    "class UpSample(nn.Module):\n",
    "    pass\n",
    "\n"
   ]
  }
 ],
 "metadata": {
  "kernelspec": {
   "display_name": "base",
   "language": "python",
   "name": "python3"
  },
  "language_info": {
   "codemirror_mode": {
    "name": "ipython",
    "version": 3
   },
   "file_extension": ".py",
   "mimetype": "text/x-python",
   "name": "python",
   "nbconvert_exporter": "python",
   "pygments_lexer": "ipython3",
   "version": "3.9.18"
  }
 },
 "nbformat": 4,
 "nbformat_minor": 2
}
